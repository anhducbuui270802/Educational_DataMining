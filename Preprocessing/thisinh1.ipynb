{
 "cells": [
  {
   "cell_type": "code",
   "execution_count": 1,
   "metadata": {},
   "outputs": [],
   "source": [
    "import numpy as np\n",
    "import pandas as pd\n",
    "import matplotlib as plt\n",
    "import seaborn as sns"
   ]
  },
  {
   "cell_type": "code",
   "execution_count": 2,
   "metadata": {},
   "outputs": [
    {
     "data": {
      "text/html": [
       "<div>\n",
       "<style scoped>\n",
       "    .dataframe tbody tr th:only-of-type {\n",
       "        vertical-align: middle;\n",
       "    }\n",
       "\n",
       "    .dataframe tbody tr th {\n",
       "        vertical-align: top;\n",
       "    }\n",
       "\n",
       "    .dataframe thead th {\n",
       "        text-align: right;\n",
       "    }\n",
       "</style>\n",
       "<table border=\"1\" class=\"dataframe\">\n",
       "  <thead>\n",
       "    <tr style=\"text-align: right;\">\n",
       "      <th></th>\n",
       "      <th>mssv</th>\n",
       "      <th>dien_tt</th>\n",
       "      <th>diem_tt</th>\n",
       "      <th>matinh</th>\n",
       "      <th>xl_tt_x</th>\n",
       "      <th>khuvuc</th>\n",
       "      <th>xl_tt_y</th>\n",
       "      <th>khuvuc_1.0</th>\n",
       "      <th>khuvuc_2.0</th>\n",
       "      <th>khuvuc_3.0</th>\n",
       "      <th>khuvuc_4.0</th>\n",
       "      <th>khuvuc_5.0</th>\n",
       "      <th>khuvuc_6.0</th>\n",
       "      <th>khuvuc_7.0</th>\n",
       "    </tr>\n",
       "  </thead>\n",
       "  <tbody>\n",
       "    <tr>\n",
       "      <th>0</th>\n",
       "      <td>7E308531XPvAibaEXe879+AOg1gh8i58Q/VMq7RU</td>\n",
       "      <td>THPT</td>\n",
       "      <td>24.5</td>\n",
       "      <td>53.0</td>\n",
       "      <td>NaN</td>\n",
       "      <td>7.0</td>\n",
       "      <td>0.0</td>\n",
       "      <td>0</td>\n",
       "      <td>0</td>\n",
       "      <td>0</td>\n",
       "      <td>0</td>\n",
       "      <td>0</td>\n",
       "      <td>0</td>\n",
       "      <td>1</td>\n",
       "    </tr>\n",
       "    <tr>\n",
       "      <th>1</th>\n",
       "      <td>0FCB6532XPvAibaEXe879+AOg1gh8o0EEQcYQ8HR</td>\n",
       "      <td>THPT</td>\n",
       "      <td>27.5</td>\n",
       "      <td>16.0</td>\n",
       "      <td>NaN</td>\n",
       "      <td>2.0</td>\n",
       "      <td>2.0</td>\n",
       "      <td>0</td>\n",
       "      <td>1</td>\n",
       "      <td>0</td>\n",
       "      <td>0</td>\n",
       "      <td>0</td>\n",
       "      <td>0</td>\n",
       "      <td>0</td>\n",
       "    </tr>\n",
       "    <tr>\n",
       "      <th>2</th>\n",
       "      <td>BAF446BFXPvAibaEXe879+AOg1gh8uQrEauqA0AG</td>\n",
       "      <td>THPT</td>\n",
       "      <td>25.0</td>\n",
       "      <td>42.0</td>\n",
       "      <td>NaN</td>\n",
       "      <td>4.0</td>\n",
       "      <td>1.0</td>\n",
       "      <td>0</td>\n",
       "      <td>0</td>\n",
       "      <td>0</td>\n",
       "      <td>1</td>\n",
       "      <td>0</td>\n",
       "      <td>0</td>\n",
       "      <td>0</td>\n",
       "    </tr>\n",
       "    <tr>\n",
       "      <th>3</th>\n",
       "      <td>599DFFB8XPvAibaEXe879+AOg1gh8lJvChSN7o+V</td>\n",
       "      <td>THPT</td>\n",
       "      <td>28.0</td>\n",
       "      <td>51.0</td>\n",
       "      <td>NaN</td>\n",
       "      <td>7.0</td>\n",
       "      <td>2.0</td>\n",
       "      <td>0</td>\n",
       "      <td>0</td>\n",
       "      <td>0</td>\n",
       "      <td>0</td>\n",
       "      <td>0</td>\n",
       "      <td>0</td>\n",
       "      <td>1</td>\n",
       "    </tr>\n",
       "    <tr>\n",
       "      <th>4</th>\n",
       "      <td>364B9E9BXPvAibaEXe879+AOg1gh8sRVdBmZSiXe</td>\n",
       "      <td>THPT</td>\n",
       "      <td>24.5</td>\n",
       "      <td>52.0</td>\n",
       "      <td>NaN</td>\n",
       "      <td>6.0</td>\n",
       "      <td>0.0</td>\n",
       "      <td>0</td>\n",
       "      <td>0</td>\n",
       "      <td>0</td>\n",
       "      <td>0</td>\n",
       "      <td>0</td>\n",
       "      <td>1</td>\n",
       "      <td>0</td>\n",
       "    </tr>\n",
       "  </tbody>\n",
       "</table>\n",
       "</div>"
      ],
      "text/plain": [
       "                                       mssv dien_tt  diem_tt  matinh  xl_tt_x  \\\n",
       "0  7E308531XPvAibaEXe879+AOg1gh8i58Q/VMq7RU    THPT     24.5    53.0      NaN   \n",
       "1  0FCB6532XPvAibaEXe879+AOg1gh8o0EEQcYQ8HR    THPT     27.5    16.0      NaN   \n",
       "2  BAF446BFXPvAibaEXe879+AOg1gh8uQrEauqA0AG    THPT     25.0    42.0      NaN   \n",
       "3  599DFFB8XPvAibaEXe879+AOg1gh8lJvChSN7o+V    THPT     28.0    51.0      NaN   \n",
       "4  364B9E9BXPvAibaEXe879+AOg1gh8sRVdBmZSiXe    THPT     24.5    52.0      NaN   \n",
       "\n",
       "   khuvuc  xl_tt_y  khuvuc_1.0  khuvuc_2.0  khuvuc_3.0  khuvuc_4.0  \\\n",
       "0     7.0      0.0           0           0           0           0   \n",
       "1     2.0      2.0           0           1           0           0   \n",
       "2     4.0      1.0           0           0           0           1   \n",
       "3     7.0      2.0           0           0           0           0   \n",
       "4     6.0      0.0           0           0           0           0   \n",
       "\n",
       "   khuvuc_5.0  khuvuc_6.0  khuvuc_7.0  \n",
       "0           0           0           1  \n",
       "1           0           0           0  \n",
       "2           0           0           0  \n",
       "3           0           0           1  \n",
       "4           0           1           0  "
      ]
     },
     "execution_count": 2,
     "metadata": {},
     "output_type": "execute_result"
    }
   ],
   "source": [
    "# Đọc dữ liệu\n",
    "df = pd.read_csv(\"../data_clean/05.ThiSinh.csv\")\n",
    "df.head()"
   ]
  },
  {
   "cell_type": "code",
   "execution_count": 3,
   "metadata": {},
   "outputs": [],
   "source": [
    "df['xl_tt_x'] = df['xl_tt_x'].fillna(df['xl_tt_y'])\n",
    "# Xóa cột 'xl_tt_y' sau khi sử dụng\n",
    "df = df.drop('xl_tt_y', axis=1)\n",
    "\n",
    "# # Đổi tên cột 'xl_tt_x' thành 'xl_tt'\n",
    "df = df.rename(columns={'xl_tt_x': 'xl_tt'})"
   ]
  },
  {
   "cell_type": "code",
   "execution_count": 4,
   "metadata": {},
   "outputs": [
    {
     "data": {
      "text/plain": [
       "mssv             0\n",
       "dien_tt          0\n",
       "diem_tt        128\n",
       "matinh        2174\n",
       "xl_tt            0\n",
       "khuvuc           0\n",
       "khuvuc_1.0       0\n",
       "khuvuc_2.0       0\n",
       "khuvuc_3.0       0\n",
       "khuvuc_4.0       0\n",
       "khuvuc_5.0       0\n",
       "khuvuc_6.0       0\n",
       "khuvuc_7.0       0\n",
       "dtype: int64"
      ]
     },
     "execution_count": 4,
     "metadata": {},
     "output_type": "execute_result"
    }
   ],
   "source": [
    "df.isna().sum()"
   ]
  },
  {
   "cell_type": "code",
   "execution_count": 5,
   "metadata": {},
   "outputs": [],
   "source": [
    "df.to_csv('../data_clean/05.ThiSinh.csv', index=False)"
   ]
  },
  {
   "cell_type": "code",
   "execution_count": null,
   "metadata": {},
   "outputs": [],
   "source": []
  }
 ],
 "metadata": {
  "kernelspec": {
   "display_name": "CS338",
   "language": "python",
   "name": "python3"
  },
  "language_info": {
   "codemirror_mode": {
    "name": "ipython",
    "version": 3
   },
   "file_extension": ".py",
   "mimetype": "text/x-python",
   "name": "python",
   "nbconvert_exporter": "python",
   "pygments_lexer": "ipython3",
   "version": "3.9.16"
  },
  "orig_nbformat": 4
 },
 "nbformat": 4,
 "nbformat_minor": 2
}
