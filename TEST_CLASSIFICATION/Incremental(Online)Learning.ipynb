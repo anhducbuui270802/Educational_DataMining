{
 "cells": [
  {
   "attachments": {},
   "cell_type": "markdown",
   "metadata": {},
   "source": [
    "# Step 1 - Loading the Required Libraries and Modules "
   ]
  },
  {
   "cell_type": "code",
   "execution_count": 250,
   "metadata": {},
   "outputs": [],
   "source": [
    "from sklearn.preprocessing import LabelEncoder\n",
    "import dask\n",
    "import dask.array as da\n",
    "from dask_ml.datasets import make_classification\n",
    "import pandas as pd\n",
    "import numpy as np\n",
    "from sklearn.linear_model import SGDClassifier\n",
    "from dask_ml.wrappers import Incremental\n",
    "\n"
   ]
  },
  {
   "attachments": {},
   "cell_type": "markdown",
   "metadata": {},
   "source": [
    "# Step 2 - Read data. Creating train, test"
   ]
  },
  {
   "cell_type": "code",
   "execution_count": 251,
   "metadata": {},
   "outputs": [],
   "source": [
    "df = pd.read_csv('../result_data/final_v2.csv') \n"
   ]
  },
  {
   "cell_type": "code",
   "execution_count": 252,
   "metadata": {},
   "outputs": [],
   "source": [
    "le = LabelEncoder()\n",
    "df['chuyennganh2'] = le.fit_transform(df['chuyennganh2'])"
   ]
  },
  {
   "cell_type": "code",
   "execution_count": 253,
   "metadata": {},
   "outputs": [
    {
     "name": "stdout",
     "output_type": "stream",
     "text": [
      "Số mẫu train1: 6888\n",
      "Số mẫu train2: 7402\n",
      "Số mẫu train3: 7671\n",
      "Số mẫu train4: 7616\n",
      "Số mẫu train5: 7528\n",
      "Số mẫu train6: 9396\n",
      "Số mẫu test: 9684\n",
      "Tỉ lệ tập test:  0.17235917059713446\n"
     ]
    }
   ],
   "source": [
    "# Dữ liệu train gồm các khóa 8, 9, 10, 11, 12, 13\n",
    "data_train = df[df[\"khoahoc\"] < 14]\n",
    "data_train1 = df[df[\"khoahoc\"]==8]\n",
    "data_train2 = df[df[\"khoahoc\"]==9]\n",
    "data_train3 = df[df[\"khoahoc\"]==10]\n",
    "data_train4 = df[df[\"khoahoc\"]==11]\n",
    "data_train5 = df[df[\"khoahoc\"]==12]\n",
    "data_train6 = df[df[\"khoahoc\"]==13]\n",
    "\n",
    "#  Dữ liệu test là khóa 14\n",
    "data_test = df[df[\"khoahoc\"]>=14]\n",
    "\n",
    "print(\"Số mẫu train1:\", data_train1.shape[0])\n",
    "print(\"Số mẫu train2:\", data_train2.shape[0])\n",
    "print(\"Số mẫu train3:\", data_train3.shape[0])\n",
    "print(\"Số mẫu train4:\", data_train4.shape[0])\n",
    "print(\"Số mẫu train5:\", data_train5.shape[0])\n",
    "print(\"Số mẫu train6:\", data_train6.shape[0])\n",
    "\n",
    "print(\"Số mẫu test:\", data_test.shape[0])\n",
    "print(\"Tỉ lệ tập test: \", data_test.shape[0]/df.shape[0])"
   ]
  },
  {
   "cell_type": "code",
   "execution_count": 254,
   "metadata": {},
   "outputs": [],
   "source": [
    "# Khu vực\n",
    "khuvuc = [col for col in df.columns if col.startswith(\"khuvuc\")]\n",
    "\n",
    "# Khoa\n",
    "khoa = [col for col in df.columns if col.startswith(\"khoa\")]\n",
    "\n",
    "# Hệ đào tạo\n",
    "hedt = [col for col in df.columns if col.startswith(\"hedt\")]\n",
    "\n",
    "# Thuộc tính đầu vào\n",
    "# input = [\"gioitinh\", \"xl_tt\", \"xl_av\", \"khoahoc\"] + khuvuc + khoa + hedt + [\"dtbtl\", \"drltl\"]\n",
    "input = [\"gioitinh\", \"xl_av\", \"khoahoc\", \"chuyennganh2\", \"xl_tt\", \"hocky_sx\" , \"sotchk\", \"dtbtl\", \"drltl\", 'dtbhk_truoc', 'drlhk_truoc', 'sotctl', 'somon_khongdat_hktruoc' ] + khuvuc + khoa + hedt \n",
    "# Output\n",
    "output = \"xeploai\""
   ]
  },
  {
   "cell_type": "code",
   "execution_count": 255,
   "metadata": {},
   "outputs": [],
   "source": [
    "for i in range(1, 7):\n",
    "    exec(f'X_train_{i} = data_train{i}[input]')\n",
    "    exec(f'y_train_{i} = data_train{i}[output]')\n"
   ]
  },
  {
   "cell_type": "code",
   "execution_count": 256,
   "metadata": {},
   "outputs": [],
   "source": [
    "X_test = data_test[input]\n",
    "y_test = data_test[output]"
   ]
  },
  {
   "cell_type": "code",
   "execution_count": 257,
   "metadata": {},
   "outputs": [
    {
     "data": {
      "text/plain": [
       "array([0, 1, 2, 3], dtype=int64)"
      ]
     },
     "execution_count": 257,
     "metadata": {},
     "output_type": "execute_result"
    }
   ],
   "source": [
    "classes = da.unique(y_train_1).compute()\n",
    "classes"
   ]
  },
  {
   "attachments": {},
   "cell_type": "markdown",
   "metadata": {},
   "source": [
    "# Step3 - Building, Predicting, and Evaluating the models"
   ]
  },
  {
   "attachments": {},
   "cell_type": "markdown",
   "metadata": {},
   "source": [
    "## SGDClassifier"
   ]
  },
  {
   "cell_type": "code",
   "execution_count": 258,
   "metadata": {},
   "outputs": [],
   "source": [
    "est = SGDClassifier(loss='log', penalty='l2', tol=1e-3)\n",
    "inc = Incremental(est, scoring='accuracy')\n"
   ]
  },
  {
   "cell_type": "code",
   "execution_count": 259,
   "metadata": {},
   "outputs": [
    {
     "name": "stderr",
     "output_type": "stream",
     "text": [
      "c:\\Users\\anhdu\\anaconda3\\envs\\CS338\\lib\\site-packages\\sklearn\\linear_model\\_stochastic_gradient.py:163: FutureWarning: The loss 'log' was deprecated in v1.1 and will be removed in version 1.3. Use `loss='log_loss'` which is equivalent.\n",
      "  warnings.warn(\n"
     ]
    },
    {
     "data": {
      "text/html": [
       "<style>#sk-container-id-12 {color: black;background-color: white;}#sk-container-id-12 pre{padding: 0;}#sk-container-id-12 div.sk-toggleable {background-color: white;}#sk-container-id-12 label.sk-toggleable__label {cursor: pointer;display: block;width: 100%;margin-bottom: 0;padding: 0.3em;box-sizing: border-box;text-align: center;}#sk-container-id-12 label.sk-toggleable__label-arrow:before {content: \"▸\";float: left;margin-right: 0.25em;color: #696969;}#sk-container-id-12 label.sk-toggleable__label-arrow:hover:before {color: black;}#sk-container-id-12 div.sk-estimator:hover label.sk-toggleable__label-arrow:before {color: black;}#sk-container-id-12 div.sk-toggleable__content {max-height: 0;max-width: 0;overflow: hidden;text-align: left;background-color: #f0f8ff;}#sk-container-id-12 div.sk-toggleable__content pre {margin: 0.2em;color: black;border-radius: 0.25em;background-color: #f0f8ff;}#sk-container-id-12 input.sk-toggleable__control:checked~div.sk-toggleable__content {max-height: 200px;max-width: 100%;overflow: auto;}#sk-container-id-12 input.sk-toggleable__control:checked~label.sk-toggleable__label-arrow:before {content: \"▾\";}#sk-container-id-12 div.sk-estimator input.sk-toggleable__control:checked~label.sk-toggleable__label {background-color: #d4ebff;}#sk-container-id-12 div.sk-label input.sk-toggleable__control:checked~label.sk-toggleable__label {background-color: #d4ebff;}#sk-container-id-12 input.sk-hidden--visually {border: 0;clip: rect(1px 1px 1px 1px);clip: rect(1px, 1px, 1px, 1px);height: 1px;margin: -1px;overflow: hidden;padding: 0;position: absolute;width: 1px;}#sk-container-id-12 div.sk-estimator {font-family: monospace;background-color: #f0f8ff;border: 1px dotted black;border-radius: 0.25em;box-sizing: border-box;margin-bottom: 0.5em;}#sk-container-id-12 div.sk-estimator:hover {background-color: #d4ebff;}#sk-container-id-12 div.sk-parallel-item::after {content: \"\";width: 100%;border-bottom: 1px solid gray;flex-grow: 1;}#sk-container-id-12 div.sk-label:hover label.sk-toggleable__label {background-color: #d4ebff;}#sk-container-id-12 div.sk-serial::before {content: \"\";position: absolute;border-left: 1px solid gray;box-sizing: border-box;top: 0;bottom: 0;left: 50%;z-index: 0;}#sk-container-id-12 div.sk-serial {display: flex;flex-direction: column;align-items: center;background-color: white;padding-right: 0.2em;padding-left: 0.2em;position: relative;}#sk-container-id-12 div.sk-item {position: relative;z-index: 1;}#sk-container-id-12 div.sk-parallel {display: flex;align-items: stretch;justify-content: center;background-color: white;position: relative;}#sk-container-id-12 div.sk-item::before, #sk-container-id-12 div.sk-parallel-item::before {content: \"\";position: absolute;border-left: 1px solid gray;box-sizing: border-box;top: 0;bottom: 0;left: 50%;z-index: -1;}#sk-container-id-12 div.sk-parallel-item {display: flex;flex-direction: column;z-index: 1;position: relative;background-color: white;}#sk-container-id-12 div.sk-parallel-item:first-child::after {align-self: flex-end;width: 50%;}#sk-container-id-12 div.sk-parallel-item:last-child::after {align-self: flex-start;width: 50%;}#sk-container-id-12 div.sk-parallel-item:only-child::after {width: 0;}#sk-container-id-12 div.sk-dashed-wrapped {border: 1px dashed gray;margin: 0 0.4em 0.5em 0.4em;box-sizing: border-box;padding-bottom: 0.4em;background-color: white;}#sk-container-id-12 div.sk-label label {font-family: monospace;font-weight: bold;display: inline-block;line-height: 1.2em;}#sk-container-id-12 div.sk-label-container {text-align: center;}#sk-container-id-12 div.sk-container {/* jupyter's `normalize.less` sets `[hidden] { display: none; }` but bootstrap.min.css set `[hidden] { display: none !important; }` so we also need the `!important` here to be able to override the default hidden behavior on the sphinx rendered scikit-learn.org. See: https://github.com/scikit-learn/scikit-learn/issues/21755 */display: inline-block !important;position: relative;}#sk-container-id-12 div.sk-text-repr-fallback {display: none;}</style><div id=\"sk-container-id-12\" class=\"sk-top-container\"><div class=\"sk-text-repr-fallback\"><pre>Incremental(estimator=SGDClassifier(loss=&#x27;log&#x27;), scoring=&#x27;accuracy&#x27;)</pre><b>In a Jupyter environment, please rerun this cell to show the HTML representation or trust the notebook. <br />On GitHub, the HTML representation is unable to render, please try loading this page with nbviewer.org.</b></div><div class=\"sk-container\" hidden><div class=\"sk-item sk-dashed-wrapped\"><div class=\"sk-label-container\"><div class=\"sk-label sk-toggleable\"><input class=\"sk-toggleable__control sk-hidden--visually\" id=\"sk-estimator-id-32\" type=\"checkbox\" ><label for=\"sk-estimator-id-32\" class=\"sk-toggleable__label sk-toggleable__label-arrow\">Incremental</label><div class=\"sk-toggleable__content\"><pre>Incremental(estimator=SGDClassifier(loss=&#x27;log&#x27;), scoring=&#x27;accuracy&#x27;)</pre></div></div></div><div class=\"sk-parallel\"><div class=\"sk-parallel-item\"><div class=\"sk-item\"><div class=\"sk-label-container\"><div class=\"sk-label sk-toggleable\"><input class=\"sk-toggleable__control sk-hidden--visually\" id=\"sk-estimator-id-33\" type=\"checkbox\" ><label for=\"sk-estimator-id-33\" class=\"sk-toggleable__label sk-toggleable__label-arrow\">estimator: SGDClassifier</label><div class=\"sk-toggleable__content\"><pre>SGDClassifier(loss=&#x27;log&#x27;)</pre></div></div></div><div class=\"sk-serial\"><div class=\"sk-item\"><div class=\"sk-estimator sk-toggleable\"><input class=\"sk-toggleable__control sk-hidden--visually\" id=\"sk-estimator-id-34\" type=\"checkbox\" ><label for=\"sk-estimator-id-34\" class=\"sk-toggleable__label sk-toggleable__label-arrow\">SGDClassifier</label><div class=\"sk-toggleable__content\"><pre>SGDClassifier(loss=&#x27;log&#x27;)</pre></div></div></div></div></div></div></div></div></div></div>"
      ],
      "text/plain": [
       "Incremental(estimator=SGDClassifier(loss='log'), scoring='accuracy')"
      ]
     },
     "execution_count": 259,
     "metadata": {},
     "output_type": "execute_result"
    }
   ],
   "source": [
    "inc.fit(X_train_1, y_train_1, classes=classes)\n"
   ]
  },
  {
   "cell_type": "code",
   "execution_count": 260,
   "metadata": {},
   "outputs": [
    {
     "data": {
      "text/plain": [
       "0.4728418009087154"
      ]
     },
     "execution_count": 260,
     "metadata": {},
     "output_type": "execute_result"
    }
   ],
   "source": [
    "inc.score(X_test, y_test)"
   ]
  },
  {
   "cell_type": "code",
   "execution_count": 261,
   "metadata": {},
   "outputs": [
    {
     "name": "stdout",
     "output_type": "stream",
     "text": [
      "Score: 0.2385377942998761\n"
     ]
    }
   ],
   "source": [
    "inc.partial_fit(X_train_2, y_train_2, classes=classes)\n",
    "print('Score:', inc.score(X_test, y_test))"
   ]
  },
  {
   "cell_type": "code",
   "execution_count": 262,
   "metadata": {},
   "outputs": [
    {
     "name": "stdout",
     "output_type": "stream",
     "text": [
      "Score: 0.35749690210656754\n"
     ]
    }
   ],
   "source": [
    "inc.partial_fit(X_train_3, y_train_3, classes=classes)\n",
    "print('Score:', inc.score(X_test, y_test))"
   ]
  },
  {
   "cell_type": "code",
   "execution_count": 263,
   "metadata": {},
   "outputs": [
    {
     "name": "stdout",
     "output_type": "stream",
     "text": [
      "Score: 0.5204460966542751\n"
     ]
    }
   ],
   "source": [
    "inc.partial_fit(X_train_4, y_train_4, classes=classes)\n",
    "print('Score:', inc.score(X_test, y_test))"
   ]
  },
  {
   "cell_type": "code",
   "execution_count": 264,
   "metadata": {},
   "outputs": [
    {
     "name": "stdout",
     "output_type": "stream",
     "text": [
      "Score: 0.46902106567534074\n"
     ]
    }
   ],
   "source": [
    "inc.partial_fit(X_train_5, y_train_5, classes=classes)\n",
    "print('Score:', inc.score(X_test, y_test))"
   ]
  },
  {
   "cell_type": "code",
   "execution_count": 265,
   "metadata": {},
   "outputs": [
    {
     "name": "stdout",
     "output_type": "stream",
     "text": [
      "Score: 0.35883932259396945\n"
     ]
    }
   ],
   "source": [
    "inc.partial_fit(X_train_6, y_train_6, classes=classes)\n",
    "print('Score:', inc.score(X_test, y_test))"
   ]
  },
  {
   "cell_type": "code",
   "execution_count": 266,
   "metadata": {},
   "outputs": [],
   "source": [
    "predict_train = inc.predict(X_train_6)\n",
    "predict_test = inc.predict(X_test)"
   ]
  },
  {
   "cell_type": "code",
   "execution_count": 267,
   "metadata": {},
   "outputs": [
    {
     "name": "stdout",
     "output_type": "stream",
     "text": [
      "[[ 239   27  847   18]\n",
      " [  76   13 2133    3]\n",
      " [  14    1 2719   50]\n",
      " [   2    1 2933  320]]\n",
      "              precision    recall  f1-score   support\n",
      "\n",
      "           0       0.72      0.21      0.33      1131\n",
      "           1       0.31      0.01      0.01      2225\n",
      "           2       0.31      0.98      0.48      2784\n",
      "           3       0.82      0.10      0.18      3256\n",
      "\n",
      "    accuracy                           0.35      9396\n",
      "   macro avg       0.54      0.32      0.25      9396\n",
      "weighted avg       0.54      0.35      0.24      9396\n",
      "\n"
     ]
    }
   ],
   "source": [
    "from sklearn.metrics import classification_report,confusion_matrix\n",
    "print(confusion_matrix(y_train_6,predict_train))\n",
    "print(classification_report(y_train_6,predict_train))"
   ]
  },
  {
   "cell_type": "code",
   "execution_count": 268,
   "metadata": {},
   "outputs": [],
   "source": [
    "X_train = data_train[input]\n",
    "y_train = data_train[output]"
   ]
  },
  {
   "cell_type": "code",
   "execution_count": 269,
   "metadata": {},
   "outputs": [
    {
     "name": "stdout",
     "output_type": "stream",
     "text": [
      "Score: 0.345518380834366\n",
      "Score: 0.2839735646427096\n",
      "Score: 0.3524370095002065\n",
      "Score: 0.494940107393639\n",
      "Score: 0.4554935976869062\n",
      "Score: 0.46788517141676994\n",
      "Score: 0.3812474184221396\n",
      "Score: 0.3344692275919042\n",
      "Score: 0.5396530359355638\n",
      "Score: 0.5326311441553078\n"
     ]
    }
   ],
   "source": [
    "for _ in range(10):\n",
    "    inc.partial_fit(X_train, y_train, classes=classes)\n",
    "    print('Score:', inc.score(X_test, y_test))"
   ]
  },
  {
   "attachments": {},
   "cell_type": "markdown",
   "metadata": {},
   "source": [
    "## MLP"
   ]
  },
  {
   "cell_type": "code",
   "execution_count": 270,
   "metadata": {},
   "outputs": [],
   "source": [
    "from sklearn.neural_network import MLPClassifier\n",
    "from sklearn.neural_network import MLPRegressor\n",
    "from sklearn.model_selection import train_test_split\n",
    "from sklearn.metrics import mean_squared_error\n",
    "from math import sqrt\n",
    "from sklearn.metrics import r2_score"
   ]
  },
  {
   "cell_type": "code",
   "execution_count": 271,
   "metadata": {},
   "outputs": [],
   "source": [
    "mlp = MLPClassifier(hidden_layer_sizes=(32,32), activation='relu', solver='adam', max_iter=500)\n"
   ]
  },
  {
   "cell_type": "code",
   "execution_count": 272,
   "metadata": {},
   "outputs": [
    {
     "name": "stdout",
     "output_type": "stream",
     "text": [
      "HK2 : 0.13725490196078433\n",
      "HK3 : 0.09190505173463177\n",
      "HK4 : 0.09697344039530574\n",
      "HK5 : 0.08533501896333755\n",
      "HK6 : 0.15355086372360843\n",
      "HK7 : 0.16711229946524064\n"
     ]
    }
   ],
   "source": [
    "mlp.fit(X_train_1,y_train_1)\n",
    "for i in range(2, 8):\n",
    "    X_test = data_test[input][data_test[\"hocky_sx\"]==i]\n",
    "    y_test = data_test[output][data_test[\"hocky_sx\"]==i]\n",
    "    print(\"HK\"+str(i), \":\", mlp.score(X_test, y_test))"
   ]
  },
  {
   "cell_type": "code",
   "execution_count": 273,
   "metadata": {},
   "outputs": [
    {
     "name": "stdout",
     "output_type": "stream",
     "text": [
      "HK2 : 0.16042780748663102\n",
      "HK3 : 0.17589774802191113\n",
      "HK4 : 0.13218035824583077\n",
      "HK5 : 0.10998735777496839\n",
      "HK6 : 0.19001919385796545\n",
      "HK7 : 0.19585561497326204\n"
     ]
    }
   ],
   "source": [
    "mlp.partial_fit(X_train_2, y_train_2)\n",
    "for i in range(2, 8):\n",
    "    X_test = data_test[input][data_test[\"hocky_sx\"]==i]\n",
    "    y_test = data_test[output][data_test[\"hocky_sx\"]==i]\n",
    "    print(\"HK\"+str(i), \":\", mlp.score(X_test, y_test))"
   ]
  },
  {
   "cell_type": "code",
   "execution_count": 274,
   "metadata": {},
   "outputs": [
    {
     "name": "stdout",
     "output_type": "stream",
     "text": [
      "HK2 : 0.1830065359477124\n",
      "HK3 : 0.23128423615337795\n",
      "HK4 : 0.15873996294008647\n",
      "HK5 : 0.1302149178255373\n",
      "HK6 : 0.21369161868202174\n",
      "HK7 : 0.2266042780748663\n"
     ]
    }
   ],
   "source": [
    "mlp.partial_fit(X_train_3, y_train_3)\n",
    "for i in range(2, 8):\n",
    "    X_test = data_test[input][data_test[\"hocky_sx\"]==i]\n",
    "    y_test = data_test[output][data_test[\"hocky_sx\"]==i]\n",
    "    print(\"HK\"+str(i), \":\", mlp.score(X_test, y_test))"
   ]
  },
  {
   "cell_type": "code",
   "execution_count": 275,
   "metadata": {},
   "outputs": [
    {
     "name": "stdout",
     "output_type": "stream",
     "text": [
      "HK2 : 0.26024955436720143\n",
      "HK3 : 0.3682288496652465\n",
      "HK4 : 0.1865348980852378\n",
      "HK5 : 0.1504424778761062\n",
      "HK6 : 0.2565579014715291\n",
      "HK7 : 0.28342245989304815\n"
     ]
    }
   ],
   "source": [
    "mlp.partial_fit(X_train_4, y_train_4)\n",
    "for i in range(2, 8):\n",
    "    X_test = data_test[input][data_test[\"hocky_sx\"]==i]\n",
    "    y_test = data_test[output][data_test[\"hocky_sx\"]==i]\n",
    "    print(\"HK\"+str(i), \":\", mlp.score(X_test, y_test))"
   ]
  },
  {
   "cell_type": "code",
   "execution_count": 276,
   "metadata": {},
   "outputs": [
    {
     "name": "stdout",
     "output_type": "stream",
     "text": [
      "HK2 : 0.3701723113487819\n",
      "HK3 : 0.5057821059038344\n",
      "HK4 : 0.2291537986411365\n",
      "HK5 : 0.21871049304677623\n",
      "HK6 : 0.38259756877799106\n",
      "HK7 : 0.42580213903743314\n"
     ]
    }
   ],
   "source": [
    "mlp.partial_fit(X_train_5, y_train_5)\n",
    "for i in range(2, 8):\n",
    "    X_test = data_test[input][data_test[\"hocky_sx\"]==i]\n",
    "    y_test = data_test[output][data_test[\"hocky_sx\"]==i]\n",
    "    print(\"HK\"+str(i), \":\", mlp.score(X_test, y_test))"
   ]
  },
  {
   "cell_type": "code",
   "execution_count": 277,
   "metadata": {},
   "outputs": [
    {
     "name": "stdout",
     "output_type": "stream",
     "text": [
      "HK2 : 0.47771836007130125\n",
      "HK3 : 0.6135118685331711\n",
      "HK4 : 0.4817788758492897\n",
      "HK5 : 0.6011378002528445\n",
      "HK6 : 0.582213691618682\n",
      "HK7 : 0.5621657754010695\n"
     ]
    }
   ],
   "source": [
    "mlp.partial_fit(X_train_6, y_train_6)\n",
    "for i in range(2, 8):\n",
    "    X_test = data_test[input][data_test[\"hocky_sx\"]==i]\n",
    "    y_test = data_test[output][data_test[\"hocky_sx\"]==i]\n",
    "    print(\"HK\"+str(i), \":\", mlp.score(X_test, y_test))"
   ]
  },
  {
   "cell_type": "code",
   "execution_count": 278,
   "metadata": {},
   "outputs": [
    {
     "name": "stdout",
     "output_type": "stream",
     "text": [
      "HK2 : 0.37373737373737376\n",
      "HK3 : 0.5015216068167986\n",
      "HK4 : 0.47313156269302037\n",
      "HK5 : 0.42920353982300885\n",
      "HK6 : 0.4779270633397313\n",
      "HK7 : 0.5661764705882353\n",
      "============================================================\n",
      "HK2 : 0.40938799762329176\n",
      "HK3 : 0.5502130249543518\n",
      "HK4 : 0.4694255713403335\n",
      "HK5 : 0.4835651074589128\n",
      "HK6 : 0.5111964171465131\n",
      "HK7 : 0.5661764705882353\n",
      "============================================================\n",
      "HK2 : 0.4682115270350565\n",
      "HK3 : 0.5684723067559343\n",
      "HK4 : 0.47004323656578134\n",
      "HK5 : 0.511378002528445\n",
      "HK6 : 0.54510556621881\n",
      "HK7 : 0.56951871657754\n",
      "============================================================\n",
      "HK2 : 0.45573380867498514\n",
      "HK3 : 0.5769933049300061\n",
      "HK4 : 0.45521927115503397\n",
      "HK5 : 0.4797724399494311\n",
      "HK6 : 0.5348688419705694\n",
      "HK7 : 0.5548128342245989\n",
      "============================================================\n",
      "HK2 : 0.4979203802733215\n",
      "HK3 : 0.5842970176506391\n",
      "HK4 : 0.4657195799876467\n",
      "HK5 : 0.47345132743362833\n",
      "HK6 : 0.5252719129878439\n",
      "HK7 : 0.571524064171123\n",
      "============================================================\n",
      "HK2 : 0.4860368389780155\n",
      "HK3 : 0.5642118076688983\n",
      "HK4 : 0.4336009882643607\n",
      "HK5 : 0.43173198482932995\n",
      "HK6 : 0.5111964171465131\n",
      "HK7 : 0.554144385026738\n",
      "============================================================\n",
      "HK2 : 0.46048722519310753\n",
      "HK3 : 0.595861229458308\n",
      "HK4 : 0.4589252625077208\n",
      "HK5 : 0.4860935524652339\n",
      "HK6 : 0.5412667946257198\n",
      "HK7 : 0.5748663101604278\n",
      "============================================================\n",
      "HK2 : 0.5175282234105764\n",
      "HK3 : 0.5970785149117468\n",
      "HK4 : 0.47745521927115503\n",
      "HK5 : 0.4949431099873578\n",
      "HK6 : 0.5342290467050543\n",
      "HK7 : 0.5735294117647058\n",
      "============================================================\n",
      "HK2 : 0.49376114081996436\n",
      "HK3 : 0.5928180158247109\n",
      "HK4 : 0.4508956145768993\n",
      "HK5 : 0.465865992414665\n",
      "HK6 : 0.5316698656429942\n",
      "HK7 : 0.5688502673796791\n",
      "============================================================\n",
      "HK2 : 0.5412953060011884\n",
      "HK3 : 0.6195982958003652\n",
      "HK4 : 0.490426189005559\n",
      "HK5 : 0.4860935524652339\n",
      "HK6 : 0.5233525271912988\n",
      "HK7 : 0.5728609625668449\n",
      "============================================================\n"
     ]
    }
   ],
   "source": [
    "for _ in range(10):\n",
    "    mlp.partial_fit(X_train, y_train)\n",
    "    for i in range(2, 8):\n",
    "        X_test = data_test[input][data_test[\"hocky_sx\"]==i]\n",
    "        y_test = data_test[output][data_test[\"hocky_sx\"]==i]\n",
    "        print(\"HK\"+str(i), \":\", mlp.score(X_test, y_test))\n",
    "    print(\"============================================================\")"
   ]
  },
  {
   "cell_type": "code",
   "execution_count": null,
   "metadata": {},
   "outputs": [],
   "source": []
  }
 ],
 "metadata": {
  "kernelspec": {
   "display_name": "CS338",
   "language": "python",
   "name": "python3"
  },
  "language_info": {
   "codemirror_mode": {
    "name": "ipython",
    "version": 3
   },
   "file_extension": ".py",
   "mimetype": "text/x-python",
   "name": "python",
   "nbconvert_exporter": "python",
   "pygments_lexer": "ipython3",
   "version": "3.9.16"
  },
  "orig_nbformat": 4
 },
 "nbformat": 4,
 "nbformat_minor": 2
}
