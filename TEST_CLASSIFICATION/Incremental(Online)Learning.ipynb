{
 "cells": [
  {
   "attachments": {},
   "cell_type": "markdown",
   "metadata": {},
   "source": [
    "# Step 1 - Loading the Required Libraries and Modules "
   ]
  },
  {
   "cell_type": "code",
   "execution_count": 163,
   "metadata": {},
   "outputs": [],
   "source": [
    "from sklearn.preprocessing import LabelEncoder\n",
    "import dask\n",
    "import dask.array as da\n",
    "from dask_ml.datasets import make_classification\n",
    "import pandas as pd\n",
    "import numpy as np\n",
    "from sklearn.linear_model import SGDClassifier\n",
    "from dask_ml.wrappers import Incremental\n",
    "\n"
   ]
  },
  {
   "attachments": {},
   "cell_type": "markdown",
   "metadata": {},
   "source": [
    "# Step 2 - Read data. Creating train, test"
   ]
  },
  {
   "cell_type": "code",
   "execution_count": 164,
   "metadata": {},
   "outputs": [],
   "source": [
    "df = pd.read_csv('../result_data/final_v2.csv') \n"
   ]
  },
  {
   "cell_type": "code",
   "execution_count": 165,
   "metadata": {},
   "outputs": [],
   "source": [
    "le = LabelEncoder()\n",
    "df['chuyennganh2'] = le.fit_transform(df['chuyennganh2'])"
   ]
  },
  {
   "cell_type": "code",
   "execution_count": 166,
   "metadata": {},
   "outputs": [
    {
     "name": "stdout",
     "output_type": "stream",
     "text": [
      "Số mẫu train1: 6888\n",
      "Số mẫu train2: 7402\n",
      "Số mẫu train3: 7671\n",
      "Số mẫu train4: 7616\n",
      "Số mẫu train5: 7528\n",
      "Số mẫu train6: 9396\n",
      "Số mẫu test: 9684\n",
      "Tỉ lệ tập test:  0.17235917059713446\n"
     ]
    }
   ],
   "source": [
    "# Dữ liệu train gồm các khóa 8, 9, 10, 11, 12, 13\n",
    "data_train = df[df[\"khoahoc\"] < 14]\n",
    "data_train1 = df[df[\"khoahoc\"]==8]\n",
    "data_train2 = df[df[\"khoahoc\"]==9]\n",
    "data_train3 = df[df[\"khoahoc\"]==10]\n",
    "data_train4 = df[df[\"khoahoc\"]==11]\n",
    "data_train5 = df[df[\"khoahoc\"]==12]\n",
    "data_train6 = df[df[\"khoahoc\"]==13]\n",
    "\n",
    "#  Dữ liệu test là khóa 14\n",
    "data_test = df[df[\"khoahoc\"]>=14]\n",
    "\n",
    "print(\"Số mẫu train1:\", data_train1.shape[0])\n",
    "print(\"Số mẫu train2:\", data_train2.shape[0])\n",
    "print(\"Số mẫu train3:\", data_train3.shape[0])\n",
    "print(\"Số mẫu train4:\", data_train4.shape[0])\n",
    "print(\"Số mẫu train5:\", data_train5.shape[0])\n",
    "print(\"Số mẫu train6:\", data_train6.shape[0])\n",
    "\n",
    "print(\"Số mẫu test:\", data_test.shape[0])\n",
    "print(\"Tỉ lệ tập test: \", data_test.shape[0]/df.shape[0])"
   ]
  },
  {
   "cell_type": "code",
   "execution_count": 167,
   "metadata": {},
   "outputs": [],
   "source": [
    "# Khu vực\n",
    "khuvuc = [col for col in df.columns if col.startswith(\"khuvuc\")]\n",
    "\n",
    "# Khoa\n",
    "khoa = [col for col in df.columns if col.startswith(\"khoa\")]\n",
    "\n",
    "# Hệ đào tạo\n",
    "hedt = [col for col in df.columns if col.startswith(\"hedt\")]\n",
    "\n",
    "# Thuộc tính đầu vào\n",
    "# input = [\"gioitinh\", \"xl_tt\", \"xl_av\", \"khoahoc\"] + khuvuc + khoa + hedt + [\"dtbtl\", \"drltl\"]\n",
    "input = [\"gioitinh\", \"xl_av\", \"khoahoc\", \"chuyennganh2\", \"xl_tt\", \"hocky_sx\" , \"sotchk\", \"dtbtl\", \"drltl\", 'dtbhk_truoc', 'drlhk_truoc', 'sotctl', 'somon_khongdat_hktruoc' ] + khuvuc + khoa + hedt \n",
    "# Output\n",
    "output = \"xeploai\""
   ]
  },
  {
   "cell_type": "code",
   "execution_count": 168,
   "metadata": {},
   "outputs": [],
   "source": [
    "for i in range(1, 7):\n",
    "    exec(f'X_train_{i} = data_train{i}[input]')\n",
    "    exec(f'y_train_{i} = data_train{i}[output]')\n"
   ]
  },
  {
   "cell_type": "code",
   "execution_count": 169,
   "metadata": {},
   "outputs": [],
   "source": [
    "X_test = data_test[input]\n",
    "y_test = data_test[output]"
   ]
  },
  {
   "cell_type": "code",
   "execution_count": 170,
   "metadata": {},
   "outputs": [
    {
     "data": {
      "text/plain": [
       "array([0, 1, 2, 3], dtype=int64)"
      ]
     },
     "execution_count": 170,
     "metadata": {},
     "output_type": "execute_result"
    }
   ],
   "source": [
    "classes = da.unique(y_train_1).compute()\n",
    "classes"
   ]
  },
  {
   "attachments": {},
   "cell_type": "markdown",
   "metadata": {},
   "source": [
    "# Step3 - Building, Predicting, and Evaluating the models"
   ]
  },
  {
   "attachments": {},
   "cell_type": "markdown",
   "metadata": {},
   "source": [
    "## SGDClassifier"
   ]
  },
  {
   "cell_type": "code",
   "execution_count": 171,
   "metadata": {},
   "outputs": [],
   "source": [
    "est = SGDClassifier(loss='log', penalty='l2', tol=1e-3)\n",
    "inc = Incremental(est, scoring='accuracy')\n"
   ]
  },
  {
   "cell_type": "code",
   "execution_count": 172,
   "metadata": {},
   "outputs": [
    {
     "name": "stderr",
     "output_type": "stream",
     "text": [
      "c:\\Users\\anhdu\\anaconda3\\envs\\CS338\\lib\\site-packages\\sklearn\\linear_model\\_stochastic_gradient.py:163: FutureWarning: The loss 'log' was deprecated in v1.1 and will be removed in version 1.3. Use `loss='log_loss'` which is equivalent.\n",
      "  warnings.warn(\n"
     ]
    },
    {
     "data": {
      "text/html": [
       "<style>#sk-container-id-9 {color: black;background-color: white;}#sk-container-id-9 pre{padding: 0;}#sk-container-id-9 div.sk-toggleable {background-color: white;}#sk-container-id-9 label.sk-toggleable__label {cursor: pointer;display: block;width: 100%;margin-bottom: 0;padding: 0.3em;box-sizing: border-box;text-align: center;}#sk-container-id-9 label.sk-toggleable__label-arrow:before {content: \"▸\";float: left;margin-right: 0.25em;color: #696969;}#sk-container-id-9 label.sk-toggleable__label-arrow:hover:before {color: black;}#sk-container-id-9 div.sk-estimator:hover label.sk-toggleable__label-arrow:before {color: black;}#sk-container-id-9 div.sk-toggleable__content {max-height: 0;max-width: 0;overflow: hidden;text-align: left;background-color: #f0f8ff;}#sk-container-id-9 div.sk-toggleable__content pre {margin: 0.2em;color: black;border-radius: 0.25em;background-color: #f0f8ff;}#sk-container-id-9 input.sk-toggleable__control:checked~div.sk-toggleable__content {max-height: 200px;max-width: 100%;overflow: auto;}#sk-container-id-9 input.sk-toggleable__control:checked~label.sk-toggleable__label-arrow:before {content: \"▾\";}#sk-container-id-9 div.sk-estimator input.sk-toggleable__control:checked~label.sk-toggleable__label {background-color: #d4ebff;}#sk-container-id-9 div.sk-label input.sk-toggleable__control:checked~label.sk-toggleable__label {background-color: #d4ebff;}#sk-container-id-9 input.sk-hidden--visually {border: 0;clip: rect(1px 1px 1px 1px);clip: rect(1px, 1px, 1px, 1px);height: 1px;margin: -1px;overflow: hidden;padding: 0;position: absolute;width: 1px;}#sk-container-id-9 div.sk-estimator {font-family: monospace;background-color: #f0f8ff;border: 1px dotted black;border-radius: 0.25em;box-sizing: border-box;margin-bottom: 0.5em;}#sk-container-id-9 div.sk-estimator:hover {background-color: #d4ebff;}#sk-container-id-9 div.sk-parallel-item::after {content: \"\";width: 100%;border-bottom: 1px solid gray;flex-grow: 1;}#sk-container-id-9 div.sk-label:hover label.sk-toggleable__label {background-color: #d4ebff;}#sk-container-id-9 div.sk-serial::before {content: \"\";position: absolute;border-left: 1px solid gray;box-sizing: border-box;top: 0;bottom: 0;left: 50%;z-index: 0;}#sk-container-id-9 div.sk-serial {display: flex;flex-direction: column;align-items: center;background-color: white;padding-right: 0.2em;padding-left: 0.2em;position: relative;}#sk-container-id-9 div.sk-item {position: relative;z-index: 1;}#sk-container-id-9 div.sk-parallel {display: flex;align-items: stretch;justify-content: center;background-color: white;position: relative;}#sk-container-id-9 div.sk-item::before, #sk-container-id-9 div.sk-parallel-item::before {content: \"\";position: absolute;border-left: 1px solid gray;box-sizing: border-box;top: 0;bottom: 0;left: 50%;z-index: -1;}#sk-container-id-9 div.sk-parallel-item {display: flex;flex-direction: column;z-index: 1;position: relative;background-color: white;}#sk-container-id-9 div.sk-parallel-item:first-child::after {align-self: flex-end;width: 50%;}#sk-container-id-9 div.sk-parallel-item:last-child::after {align-self: flex-start;width: 50%;}#sk-container-id-9 div.sk-parallel-item:only-child::after {width: 0;}#sk-container-id-9 div.sk-dashed-wrapped {border: 1px dashed gray;margin: 0 0.4em 0.5em 0.4em;box-sizing: border-box;padding-bottom: 0.4em;background-color: white;}#sk-container-id-9 div.sk-label label {font-family: monospace;font-weight: bold;display: inline-block;line-height: 1.2em;}#sk-container-id-9 div.sk-label-container {text-align: center;}#sk-container-id-9 div.sk-container {/* jupyter's `normalize.less` sets `[hidden] { display: none; }` but bootstrap.min.css set `[hidden] { display: none !important; }` so we also need the `!important` here to be able to override the default hidden behavior on the sphinx rendered scikit-learn.org. See: https://github.com/scikit-learn/scikit-learn/issues/21755 */display: inline-block !important;position: relative;}#sk-container-id-9 div.sk-text-repr-fallback {display: none;}</style><div id=\"sk-container-id-9\" class=\"sk-top-container\"><div class=\"sk-text-repr-fallback\"><pre>Incremental(estimator=SGDClassifier(loss=&#x27;log&#x27;), scoring=&#x27;accuracy&#x27;)</pre><b>In a Jupyter environment, please rerun this cell to show the HTML representation or trust the notebook. <br />On GitHub, the HTML representation is unable to render, please try loading this page with nbviewer.org.</b></div><div class=\"sk-container\" hidden><div class=\"sk-item sk-dashed-wrapped\"><div class=\"sk-label-container\"><div class=\"sk-label sk-toggleable\"><input class=\"sk-toggleable__control sk-hidden--visually\" id=\"sk-estimator-id-25\" type=\"checkbox\" ><label for=\"sk-estimator-id-25\" class=\"sk-toggleable__label sk-toggleable__label-arrow\">Incremental</label><div class=\"sk-toggleable__content\"><pre>Incremental(estimator=SGDClassifier(loss=&#x27;log&#x27;), scoring=&#x27;accuracy&#x27;)</pre></div></div></div><div class=\"sk-parallel\"><div class=\"sk-parallel-item\"><div class=\"sk-item\"><div class=\"sk-label-container\"><div class=\"sk-label sk-toggleable\"><input class=\"sk-toggleable__control sk-hidden--visually\" id=\"sk-estimator-id-26\" type=\"checkbox\" ><label for=\"sk-estimator-id-26\" class=\"sk-toggleable__label sk-toggleable__label-arrow\">estimator: SGDClassifier</label><div class=\"sk-toggleable__content\"><pre>SGDClassifier(loss=&#x27;log&#x27;)</pre></div></div></div><div class=\"sk-serial\"><div class=\"sk-item\"><div class=\"sk-estimator sk-toggleable\"><input class=\"sk-toggleable__control sk-hidden--visually\" id=\"sk-estimator-id-27\" type=\"checkbox\" ><label for=\"sk-estimator-id-27\" class=\"sk-toggleable__label sk-toggleable__label-arrow\">SGDClassifier</label><div class=\"sk-toggleable__content\"><pre>SGDClassifier(loss=&#x27;log&#x27;)</pre></div></div></div></div></div></div></div></div></div></div>"
      ],
      "text/plain": [
       "Incremental(estimator=SGDClassifier(loss='log'), scoring='accuracy')"
      ]
     },
     "execution_count": 172,
     "metadata": {},
     "output_type": "execute_result"
    }
   ],
   "source": [
    "inc.fit(X_train_1, y_train_1, classes=classes)\n"
   ]
  },
  {
   "cell_type": "code",
   "execution_count": 173,
   "metadata": {},
   "outputs": [
    {
     "data": {
      "text/plain": [
       "0.40861214374225524"
      ]
     },
     "execution_count": 173,
     "metadata": {},
     "output_type": "execute_result"
    }
   ],
   "source": [
    "inc.score(X_test, y_test)"
   ]
  },
  {
   "cell_type": "code",
   "execution_count": 174,
   "metadata": {},
   "outputs": [
    {
     "name": "stdout",
     "output_type": "stream",
     "text": [
      "Score: 0.45652622883106153\n"
     ]
    }
   ],
   "source": [
    "inc.partial_fit(X_train_2, y_train_2, classes=classes)\n",
    "print('Score:', inc.score(X_test, y_test))"
   ]
  },
  {
   "cell_type": "code",
   "execution_count": 175,
   "metadata": {},
   "outputs": [
    {
     "name": "stdout",
     "output_type": "stream",
     "text": [
      "Score: 0.4687112763320942\n"
     ]
    }
   ],
   "source": [
    "inc.partial_fit(X_train_3, y_train_3, classes=classes)\n",
    "print('Score:', inc.score(X_test, y_test))"
   ]
  },
  {
   "cell_type": "code",
   "execution_count": 176,
   "metadata": {},
   "outputs": [
    {
     "name": "stdout",
     "output_type": "stream",
     "text": [
      "Score: 0.38806278397356464\n"
     ]
    }
   ],
   "source": [
    "inc.partial_fit(X_train_4, y_train_4, classes=classes)\n",
    "print('Score:', inc.score(X_test, y_test))"
   ]
  },
  {
   "cell_type": "code",
   "execution_count": 177,
   "metadata": {},
   "outputs": [
    {
     "name": "stdout",
     "output_type": "stream",
     "text": [
      "Score: 0.508364312267658\n"
     ]
    }
   ],
   "source": [
    "inc.partial_fit(X_train_5, y_train_5, classes=classes)\n",
    "print('Score:', inc.score(X_test, y_test))"
   ]
  },
  {
   "cell_type": "code",
   "execution_count": 178,
   "metadata": {},
   "outputs": [
    {
     "name": "stdout",
     "output_type": "stream",
     "text": [
      "Score: 0.5765179677819083\n"
     ]
    }
   ],
   "source": [
    "inc.partial_fit(X_train_6, y_train_6, classes=classes)\n",
    "print('Score:', inc.score(X_test, y_test))"
   ]
  },
  {
   "cell_type": "code",
   "execution_count": 179,
   "metadata": {},
   "outputs": [],
   "source": [
    "predict_train = inc.predict(X_train_6)\n",
    "predict_test = inc.predict(X_test)"
   ]
  },
  {
   "cell_type": "code",
   "execution_count": 180,
   "metadata": {},
   "outputs": [
    {
     "name": "stdout",
     "output_type": "stream",
     "text": [
      "[[ 318  295  221  297]\n",
      " [ 137  527 1200  361]\n",
      " [  40  120 1267 1357]\n",
      " [  13   17  413 2813]]\n",
      "              precision    recall  f1-score   support\n",
      "\n",
      "           0       0.63      0.28      0.39      1131\n",
      "           1       0.55      0.24      0.33      2225\n",
      "           2       0.41      0.46      0.43      2784\n",
      "           3       0.58      0.86      0.70      3256\n",
      "\n",
      "    accuracy                           0.52      9396\n",
      "   macro avg       0.54      0.46      0.46      9396\n",
      "weighted avg       0.53      0.52      0.49      9396\n",
      "\n"
     ]
    }
   ],
   "source": [
    "from sklearn.metrics import classification_report,confusion_matrix\n",
    "print(confusion_matrix(y_train_6,predict_train))\n",
    "print(classification_report(y_train_6,predict_train))"
   ]
  },
  {
   "cell_type": "code",
   "execution_count": 181,
   "metadata": {},
   "outputs": [],
   "source": [
    "X_train = data_train[input]\n",
    "y_train = data_train[output]"
   ]
  },
  {
   "cell_type": "code",
   "execution_count": 182,
   "metadata": {},
   "outputs": [
    {
     "name": "stdout",
     "output_type": "stream",
     "text": [
      "Score: 0.4882280049566295\n",
      "Score: 0.49979347377116895\n",
      "Score: 0.5054729450640232\n",
      "Score: 0.209727385377943\n",
      "Score: 0.45745559686080134\n",
      "Score: 0.3768071045022718\n",
      "Score: 0.4232755059892606\n",
      "Score: 0.4771788517141677\n",
      "Score: 0.330545229244114\n",
      "Score: 0.2823213548120611\n"
     ]
    }
   ],
   "source": [
    "for _ in range(10):\n",
    "    inc.partial_fit(X_train, y_train, classes=classes)\n",
    "    print('Score:', inc.score(X_test, y_test))"
   ]
  },
  {
   "attachments": {},
   "cell_type": "markdown",
   "metadata": {},
   "source": [
    "## MLP"
   ]
  },
  {
   "cell_type": "code",
   "execution_count": 184,
   "metadata": {},
   "outputs": [],
   "source": [
    "from sklearn.neural_network import MLPClassifier\n",
    "from sklearn.neural_network import MLPRegressor\n",
    "from sklearn.model_selection import train_test_split\n",
    "from sklearn.metrics import mean_squared_error\n",
    "from math import sqrt\n",
    "from sklearn.metrics import r2_score"
   ]
  },
  {
   "cell_type": "code",
   "execution_count": 186,
   "metadata": {},
   "outputs": [],
   "source": [
    "mlp = MLPClassifier(hidden_layer_sizes=(32,32), activation='relu', solver='adam', max_iter=500)\n"
   ]
  },
  {
   "cell_type": "code",
   "execution_count": 188,
   "metadata": {},
   "outputs": [
    {
     "name": "stdout",
     "output_type": "stream",
     "text": [
      "HK2 : 0.13725490196078433\n",
      "HK3 : 0.10529519172245892\n",
      "HK4 : 0.08400247066090179\n",
      "HK5 : 0.06447534766118837\n",
      "HK6 : 0.10684580934101087\n",
      "HK7 : 0.11163101604278075\n"
     ]
    }
   ],
   "source": [
    "mlp.fit(X_train_1,y_train_1)\n",
    "for i in range(2, 8):\n",
    "    X_test = data_test[input][data_test[\"hocky_sx\"]==i]\n",
    "    y_test = data_test[output][data_test[\"hocky_sx\"]==i]\n",
    "    print(\"HK\"+str(i), \":\", mlp.score(X_test, y_test))"
   ]
  },
  {
   "cell_type": "code",
   "execution_count": 189,
   "metadata": {},
   "outputs": [
    {
     "name": "stdout",
     "output_type": "stream",
     "text": [
      "HK2 : 0.1414141414141414\n",
      "HK3 : 0.16068167985392576\n",
      "HK4 : 0.09635577516985794\n",
      "HK5 : 0.08217446270543616\n",
      "HK6 : 0.1599488163787588\n",
      "HK7 : 0.17179144385026737\n"
     ]
    }
   ],
   "source": [
    "mlp.partial_fit(X_train_2, y_train_2, classes=classes)\n",
    "for i in range(2, 8):\n",
    "    X_test = data_test[input][data_test[\"hocky_sx\"]==i]\n",
    "    y_test = data_test[output][data_test[\"hocky_sx\"]==i]\n",
    "    print(\"HK\"+str(i), \":\", mlp.score(X_test, y_test))"
   ]
  },
  {
   "cell_type": "code",
   "execution_count": 190,
   "metadata": {},
   "outputs": [
    {
     "name": "stdout",
     "output_type": "stream",
     "text": [
      "HK2 : 0.1568627450980392\n",
      "HK3 : 0.22519780888618382\n",
      "HK4 : 0.13279802347127856\n",
      "HK5 : 0.11883691529709228\n",
      "HK6 : 0.21369161868202174\n",
      "HK7 : 0.22994652406417113\n"
     ]
    }
   ],
   "source": [
    "mlp.partial_fit(X_train_3, y_train_3, classes=classes)\n",
    "for i in range(2, 8):\n",
    "    X_test = data_test[input][data_test[\"hocky_sx\"]==i]\n",
    "    y_test = data_test[output][data_test[\"hocky_sx\"]==i]\n",
    "    print(\"HK\"+str(i), \":\", mlp.score(X_test, y_test))"
   ]
  },
  {
   "cell_type": "code",
   "execution_count": 191,
   "metadata": {},
   "outputs": [
    {
     "name": "stdout",
     "output_type": "stream",
     "text": [
      "HK2 : 0.21152703505644682\n",
      "HK3 : 0.3171028606208156\n",
      "HK4 : 0.18468190240889437\n",
      "HK5 : 0.15802781289506954\n",
      "HK6 : 0.2476007677543186\n",
      "HK7 : 0.27406417112299464\n"
     ]
    }
   ],
   "source": [
    "mlp.partial_fit(X_train_4, y_train_4, classes=classes)\n",
    "for i in range(2, 8):\n",
    "    X_test = data_test[input][data_test[\"hocky_sx\"]==i]\n",
    "    y_test = data_test[output][data_test[\"hocky_sx\"]==i]\n",
    "    print(\"HK\"+str(i), \":\", mlp.score(X_test, y_test))"
   ]
  },
  {
   "cell_type": "code",
   "execution_count": 192,
   "metadata": {},
   "outputs": [
    {
     "name": "stdout",
     "output_type": "stream",
     "text": [
      "HK2 : 0.3018419489007724\n",
      "HK3 : 0.3901399878271455\n",
      "HK4 : 0.24397776405188387\n",
      "HK5 : 0.20733249051833122\n",
      "HK6 : 0.3582853486884197\n",
      "HK7 : 0.45187165775401067\n"
     ]
    }
   ],
   "source": [
    "mlp.partial_fit(X_train_5, y_train_5, classes=classes)\n",
    "for i in range(2, 8):\n",
    "    X_test = data_test[input][data_test[\"hocky_sx\"]==i]\n",
    "    y_test = data_test[output][data_test[\"hocky_sx\"]==i]\n",
    "    print(\"HK\"+str(i), \":\", mlp.score(X_test, y_test))"
   ]
  },
  {
   "cell_type": "code",
   "execution_count": 193,
   "metadata": {},
   "outputs": [
    {
     "name": "stdout",
     "output_type": "stream",
     "text": [
      "HK2 : 0.49732620320855614\n",
      "HK3 : 0.6165550821667681\n",
      "HK4 : 0.5330450895614577\n",
      "HK5 : 0.6156763590391909\n",
      "HK6 : 0.5674984005118362\n",
      "HK7 : 0.5521390374331551\n"
     ]
    }
   ],
   "source": [
    "mlp.partial_fit(X_train_6, y_train_6, classes=classes)\n",
    "for i in range(2, 8):\n",
    "    X_test = data_test[input][data_test[\"hocky_sx\"]==i]\n",
    "    y_test = data_test[output][data_test[\"hocky_sx\"]==i]\n",
    "    print(\"HK\"+str(i), \":\", mlp.score(X_test, y_test))"
   ]
  },
  {
   "cell_type": "code",
   "execution_count": 195,
   "metadata": {},
   "outputs": [
    {
     "name": "stdout",
     "output_type": "stream",
     "text": [
      "HK2 : 0.5050505050505051\n",
      "HK3 : 0.5976871576384662\n",
      "HK4 : 0.48857319332921556\n",
      "HK5 : 0.5088495575221239\n",
      "HK6 : 0.5406269993602048\n",
      "HK7 : 0.570855614973262\n",
      "============================================================\n",
      "HK2 : 0.5442661913250149\n",
      "HK3 : 0.6214242239805234\n",
      "HK4 : 0.5083384805435454\n",
      "HK5 : 0.5006321112515802\n",
      "HK6 : 0.5303902751119641\n",
      "HK7 : 0.5748663101604278\n",
      "============================================================\n",
      "HK2 : 0.5121806298276886\n",
      "HK3 : 0.5867315885575167\n",
      "HK4 : 0.4416306361951822\n",
      "HK5 : 0.42098609355246525\n",
      "HK6 : 0.5182341650671785\n",
      "HK7 : 0.5681818181818182\n",
      "============================================================\n",
      "HK2 : 0.5543672014260249\n",
      "HK3 : 0.62507608034084\n",
      "HK4 : 0.5311920938851142\n",
      "HK5 : 0.5663716814159292\n",
      "HK6 : 0.5495841330774153\n",
      "HK7 : 0.5655080213903744\n",
      "============================================================\n",
      "HK2 : 0.5995246583481878\n",
      "HK3 : 0.6244674376141205\n",
      "HK4 : 0.5410747374922792\n",
      "HK5 : 0.5587863463969659\n",
      "HK6 : 0.5412667946257198\n",
      "HK7 : 0.554144385026738\n",
      "============================================================\n",
      "HK2 : 0.5739750445632799\n",
      "HK3 : 0.628119293974437\n",
      "HK4 : 0.5194564546016059\n",
      "HK5 : 0.5436156763590392\n",
      "HK6 : 0.5387076135636596\n",
      "HK7 : 0.5648395721925134\n",
      "============================================================\n",
      "HK2 : 0.5508021390374331\n",
      "HK3 : 0.6262933657942787\n",
      "HK4 : 0.5281037677578753\n",
      "HK5 : 0.5594184576485461\n",
      "HK6 : 0.5431861804222649\n",
      "HK7 : 0.5447860962566845\n",
      "============================================================\n",
      "HK2 : 0.5632798573975044\n",
      "HK3 : 0.6116859403530128\n",
      "HK4 : 0.4817788758492897\n",
      "HK5 : 0.5006321112515802\n",
      "HK6 : 0.5412667946257198\n",
      "HK7 : 0.5681818181818182\n",
      "============================================================\n",
      "HK2 : 0.5365418894830659\n",
      "HK3 : 0.6269020085209982\n",
      "HK4 : 0.5114268066707844\n",
      "HK5 : 0.5404551201011378\n",
      "HK6 : 0.5323096609085093\n",
      "HK7 : 0.5421122994652406\n",
      "============================================================\n",
      "HK2 : 0.5852644087938206\n",
      "HK3 : 0.62507608034084\n",
      "HK4 : 0.5342804200123533\n",
      "HK5 : 0.5777496839443742\n",
      "HK6 : 0.5476647472808701\n",
      "HK7 : 0.5454545454545454\n",
      "============================================================\n"
     ]
    }
   ],
   "source": [
    "for _ in range(10):\n",
    "    mlp.partial_fit(X_train, y_train)\n",
    "    for i in range(2, 8):\n",
    "        X_test = data_test[input][data_test[\"hocky_sx\"]==i]\n",
    "        y_test = data_test[output][data_test[\"hocky_sx\"]==i]\n",
    "        print(\"HK\"+str(i), \":\", mlp.score(X_test, y_test))\n",
    "    print(\"============================================================\")"
   ]
  },
  {
   "cell_type": "code",
   "execution_count": null,
   "metadata": {},
   "outputs": [],
   "source": []
  }
 ],
 "metadata": {
  "kernelspec": {
   "display_name": "CS338",
   "language": "python",
   "name": "python3"
  },
  "language_info": {
   "codemirror_mode": {
    "name": "ipython",
    "version": 3
   },
   "file_extension": ".py",
   "mimetype": "text/x-python",
   "name": "python",
   "nbconvert_exporter": "python",
   "pygments_lexer": "ipython3",
   "version": "3.9.16"
  },
  "orig_nbformat": 4
 },
 "nbformat": 4,
 "nbformat_minor": 2
}
