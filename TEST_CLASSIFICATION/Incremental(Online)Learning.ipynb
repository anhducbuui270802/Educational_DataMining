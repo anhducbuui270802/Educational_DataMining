{
 "cells": [
  {
   "attachments": {},
   "cell_type": "markdown",
   "metadata": {},
   "source": [
    "# Step 1 - Loading the Required Libraries and Modules "
   ]
  },
  {
   "cell_type": "code",
   "execution_count": 91,
   "metadata": {},
   "outputs": [],
   "source": [
    "from sklearn.preprocessing import LabelEncoder\n",
    "import dask\n",
    "import dask.array as da\n",
    "from dask_ml.datasets import make_classification\n",
    "import pandas as pd\n",
    "import numpy as np\n",
    "from sklearn.linear_model import SGDClassifier\n",
    "from dask_ml.wrappers import Incremental\n",
    "\n"
   ]
  },
  {
   "attachments": {},
   "cell_type": "markdown",
   "metadata": {},
   "source": [
    "# Step 2 - Read data. Creating train, test"
   ]
  },
  {
   "cell_type": "code",
   "execution_count": 92,
   "metadata": {},
   "outputs": [],
   "source": [
    "df = pd.read_csv('../result_data/final_v3.csv') \n"
   ]
  },
  {
   "cell_type": "code",
   "execution_count": 93,
   "metadata": {},
   "outputs": [],
   "source": [
    "le = LabelEncoder()\n",
    "df['chuyennganh2'] = le.fit_transform(df['chuyennganh2'])"
   ]
  },
  {
   "cell_type": "code",
   "execution_count": 94,
   "metadata": {},
   "outputs": [
    {
     "name": "stdout",
     "output_type": "stream",
     "text": [
      "Số mẫu train1: 6888\n",
      "Số mẫu train2: 7402\n",
      "Số mẫu train3: 7671\n",
      "Số mẫu train4: 7616\n",
      "Số mẫu train5: 7528\n",
      "Số mẫu train6: 9396\n",
      "Số mẫu test: 9684\n",
      "Tỉ lệ tập test:  0.17235917059713446\n"
     ]
    }
   ],
   "source": [
    "# Dữ liệu train gồm các khóa 8, 9, 10, 11, 12, 13\n",
    "data_train = df[df[\"khoahoc\"] < 14]\n",
    "data_train1 = df[df[\"khoahoc\"]==8]\n",
    "data_train2 = df[df[\"khoahoc\"]==9]\n",
    "data_train3 = df[df[\"khoahoc\"]==10]\n",
    "data_train4 = df[df[\"khoahoc\"]==11]\n",
    "data_train5 = df[df[\"khoahoc\"]==12]\n",
    "data_train6 = df[df[\"khoahoc\"]==13]\n",
    "\n",
    "#  Dữ liệu test là khóa 14\n",
    "data_test = df[df[\"khoahoc\"]>=14]\n",
    "\n",
    "print(\"Số mẫu train1:\", data_train1.shape[0])\n",
    "print(\"Số mẫu train2:\", data_train2.shape[0])\n",
    "print(\"Số mẫu train3:\", data_train3.shape[0])\n",
    "print(\"Số mẫu train4:\", data_train4.shape[0])\n",
    "print(\"Số mẫu train5:\", data_train5.shape[0])\n",
    "print(\"Số mẫu train6:\", data_train6.shape[0])\n",
    "\n",
    "print(\"Số mẫu test:\", data_test.shape[0])\n",
    "print(\"Tỉ lệ tập test: \", data_test.shape[0]/df.shape[0])"
   ]
  },
  {
   "cell_type": "code",
   "execution_count": 95,
   "metadata": {},
   "outputs": [],
   "source": [
    "# Khu vực\n",
    "khuvuc = [col for col in df.columns if col.startswith(\"khuvuc\")]\n",
    "\n",
    "# Khoa\n",
    "khoa = [col for col in df.columns if col.startswith(\"khoa\")]\n",
    "\n",
    "# Hệ đào tạo\n",
    "hedt = [col for col in df.columns if col.startswith(\"hedt\")]\n",
    "\n",
    "# Thuộc tính đầu vào\n",
    "# input = [\"gioitinh\", \"xl_tt\", \"xl_av\", \"khoahoc\"] + khuvuc + khoa + hedt + [\"dtbtl\", \"drltl\"]\n",
    "input = [\"gioitinh\", \"xl_av\", \"khoahoc\", \"chuyennganh2\", \"xl_tt\", \"hocky_sx\" , \"sotchk\", \"dtbtl\", \"drltl\", 'dtbhk_truoc', 'drlhk_truoc', 'sotctl', 'somon_khongdat_hktruoc' ] + khuvuc + khoa + hedt \n",
    "# Output\n",
    "output = \"xeploai\""
   ]
  },
  {
   "cell_type": "code",
   "execution_count": 96,
   "metadata": {},
   "outputs": [],
   "source": [
    "for i in range(1, 7):\n",
    "    exec(f'X_train_{i} = data_train{i}[input]')\n",
    "    exec(f'y_train_{i} = data_train{i}[output]')\n"
   ]
  },
  {
   "cell_type": "code",
   "execution_count": 97,
   "metadata": {},
   "outputs": [],
   "source": [
    "X_test = data_test[input]\n",
    "y_test = data_test[output]"
   ]
  },
  {
   "cell_type": "code",
   "execution_count": 98,
   "metadata": {},
   "outputs": [
    {
     "data": {
      "text/plain": [
       "array([0, 1, 2, 3, 4, 5, 6], dtype=int64)"
      ]
     },
     "execution_count": 98,
     "metadata": {},
     "output_type": "execute_result"
    }
   ],
   "source": [
    "classes = da.unique(y_train_1).compute()\n",
    "classes"
   ]
  },
  {
   "attachments": {},
   "cell_type": "markdown",
   "metadata": {},
   "source": [
    "# Step3 - Building, Predicting, and Evaluating the models"
   ]
  },
  {
   "attachments": {},
   "cell_type": "markdown",
   "metadata": {},
   "source": [
    "## SGDClassifier"
   ]
  },
  {
   "cell_type": "code",
   "execution_count": 99,
   "metadata": {},
   "outputs": [],
   "source": [
    "est = SGDClassifier(loss='log', penalty='l2', tol=1e-3)\n",
    "inc = Incremental(est, scoring='accuracy')\n"
   ]
  },
  {
   "cell_type": "code",
   "execution_count": 100,
   "metadata": {},
   "outputs": [
    {
     "name": "stderr",
     "output_type": "stream",
     "text": [
      "c:\\Users\\anhdu\\anaconda3\\envs\\CS338\\lib\\site-packages\\sklearn\\linear_model\\_stochastic_gradient.py:163: FutureWarning: The loss 'log' was deprecated in v1.1 and will be removed in version 1.3. Use `loss='log_loss'` which is equivalent.\n",
      "  warnings.warn(\n"
     ]
    },
    {
     "data": {
      "text/html": [
       "<style>#sk-container-id-4 {color: black;background-color: white;}#sk-container-id-4 pre{padding: 0;}#sk-container-id-4 div.sk-toggleable {background-color: white;}#sk-container-id-4 label.sk-toggleable__label {cursor: pointer;display: block;width: 100%;margin-bottom: 0;padding: 0.3em;box-sizing: border-box;text-align: center;}#sk-container-id-4 label.sk-toggleable__label-arrow:before {content: \"▸\";float: left;margin-right: 0.25em;color: #696969;}#sk-container-id-4 label.sk-toggleable__label-arrow:hover:before {color: black;}#sk-container-id-4 div.sk-estimator:hover label.sk-toggleable__label-arrow:before {color: black;}#sk-container-id-4 div.sk-toggleable__content {max-height: 0;max-width: 0;overflow: hidden;text-align: left;background-color: #f0f8ff;}#sk-container-id-4 div.sk-toggleable__content pre {margin: 0.2em;color: black;border-radius: 0.25em;background-color: #f0f8ff;}#sk-container-id-4 input.sk-toggleable__control:checked~div.sk-toggleable__content {max-height: 200px;max-width: 100%;overflow: auto;}#sk-container-id-4 input.sk-toggleable__control:checked~label.sk-toggleable__label-arrow:before {content: \"▾\";}#sk-container-id-4 div.sk-estimator input.sk-toggleable__control:checked~label.sk-toggleable__label {background-color: #d4ebff;}#sk-container-id-4 div.sk-label input.sk-toggleable__control:checked~label.sk-toggleable__label {background-color: #d4ebff;}#sk-container-id-4 input.sk-hidden--visually {border: 0;clip: rect(1px 1px 1px 1px);clip: rect(1px, 1px, 1px, 1px);height: 1px;margin: -1px;overflow: hidden;padding: 0;position: absolute;width: 1px;}#sk-container-id-4 div.sk-estimator {font-family: monospace;background-color: #f0f8ff;border: 1px dotted black;border-radius: 0.25em;box-sizing: border-box;margin-bottom: 0.5em;}#sk-container-id-4 div.sk-estimator:hover {background-color: #d4ebff;}#sk-container-id-4 div.sk-parallel-item::after {content: \"\";width: 100%;border-bottom: 1px solid gray;flex-grow: 1;}#sk-container-id-4 div.sk-label:hover label.sk-toggleable__label {background-color: #d4ebff;}#sk-container-id-4 div.sk-serial::before {content: \"\";position: absolute;border-left: 1px solid gray;box-sizing: border-box;top: 0;bottom: 0;left: 50%;z-index: 0;}#sk-container-id-4 div.sk-serial {display: flex;flex-direction: column;align-items: center;background-color: white;padding-right: 0.2em;padding-left: 0.2em;position: relative;}#sk-container-id-4 div.sk-item {position: relative;z-index: 1;}#sk-container-id-4 div.sk-parallel {display: flex;align-items: stretch;justify-content: center;background-color: white;position: relative;}#sk-container-id-4 div.sk-item::before, #sk-container-id-4 div.sk-parallel-item::before {content: \"\";position: absolute;border-left: 1px solid gray;box-sizing: border-box;top: 0;bottom: 0;left: 50%;z-index: -1;}#sk-container-id-4 div.sk-parallel-item {display: flex;flex-direction: column;z-index: 1;position: relative;background-color: white;}#sk-container-id-4 div.sk-parallel-item:first-child::after {align-self: flex-end;width: 50%;}#sk-container-id-4 div.sk-parallel-item:last-child::after {align-self: flex-start;width: 50%;}#sk-container-id-4 div.sk-parallel-item:only-child::after {width: 0;}#sk-container-id-4 div.sk-dashed-wrapped {border: 1px dashed gray;margin: 0 0.4em 0.5em 0.4em;box-sizing: border-box;padding-bottom: 0.4em;background-color: white;}#sk-container-id-4 div.sk-label label {font-family: monospace;font-weight: bold;display: inline-block;line-height: 1.2em;}#sk-container-id-4 div.sk-label-container {text-align: center;}#sk-container-id-4 div.sk-container {/* jupyter's `normalize.less` sets `[hidden] { display: none; }` but bootstrap.min.css set `[hidden] { display: none !important; }` so we also need the `!important` here to be able to override the default hidden behavior on the sphinx rendered scikit-learn.org. See: https://github.com/scikit-learn/scikit-learn/issues/21755 */display: inline-block !important;position: relative;}#sk-container-id-4 div.sk-text-repr-fallback {display: none;}</style><div id=\"sk-container-id-4\" class=\"sk-top-container\"><div class=\"sk-text-repr-fallback\"><pre>Incremental(estimator=SGDClassifier(loss=&#x27;log&#x27;), scoring=&#x27;accuracy&#x27;)</pre><b>In a Jupyter environment, please rerun this cell to show the HTML representation or trust the notebook. <br />On GitHub, the HTML representation is unable to render, please try loading this page with nbviewer.org.</b></div><div class=\"sk-container\" hidden><div class=\"sk-item sk-dashed-wrapped\"><div class=\"sk-label-container\"><div class=\"sk-label sk-toggleable\"><input class=\"sk-toggleable__control sk-hidden--visually\" id=\"sk-estimator-id-10\" type=\"checkbox\" ><label for=\"sk-estimator-id-10\" class=\"sk-toggleable__label sk-toggleable__label-arrow\">Incremental</label><div class=\"sk-toggleable__content\"><pre>Incremental(estimator=SGDClassifier(loss=&#x27;log&#x27;), scoring=&#x27;accuracy&#x27;)</pre></div></div></div><div class=\"sk-parallel\"><div class=\"sk-parallel-item\"><div class=\"sk-item\"><div class=\"sk-label-container\"><div class=\"sk-label sk-toggleable\"><input class=\"sk-toggleable__control sk-hidden--visually\" id=\"sk-estimator-id-11\" type=\"checkbox\" ><label for=\"sk-estimator-id-11\" class=\"sk-toggleable__label sk-toggleable__label-arrow\">estimator: SGDClassifier</label><div class=\"sk-toggleable__content\"><pre>SGDClassifier(loss=&#x27;log&#x27;)</pre></div></div></div><div class=\"sk-serial\"><div class=\"sk-item\"><div class=\"sk-estimator sk-toggleable\"><input class=\"sk-toggleable__control sk-hidden--visually\" id=\"sk-estimator-id-12\" type=\"checkbox\" ><label for=\"sk-estimator-id-12\" class=\"sk-toggleable__label sk-toggleable__label-arrow\">SGDClassifier</label><div class=\"sk-toggleable__content\"><pre>SGDClassifier(loss=&#x27;log&#x27;)</pre></div></div></div></div></div></div></div></div></div></div>"
      ],
      "text/plain": [
       "Incremental(estimator=SGDClassifier(loss='log'), scoring='accuracy')"
      ]
     },
     "execution_count": 100,
     "metadata": {},
     "output_type": "execute_result"
    }
   ],
   "source": [
    "inc.fit(X_train_1, y_train_1, classes=classes)\n"
   ]
  },
  {
   "cell_type": "code",
   "execution_count": 101,
   "metadata": {},
   "outputs": [
    {
     "data": {
      "text/plain": [
       "0.22263527467988434"
      ]
     },
     "execution_count": 101,
     "metadata": {},
     "output_type": "execute_result"
    }
   ],
   "source": [
    "inc.score(X_test, y_test)"
   ]
  },
  {
   "cell_type": "code",
   "execution_count": 102,
   "metadata": {},
   "outputs": [
    {
     "name": "stdout",
     "output_type": "stream",
     "text": [
      "Score: 0.3878562577447336\n"
     ]
    }
   ],
   "source": [
    "inc.partial_fit(X_train_2, y_train_2, classes=classes)\n",
    "print('Score:', inc.score(X_test, y_test))"
   ]
  },
  {
   "cell_type": "code",
   "execution_count": 103,
   "metadata": {},
   "outputs": [
    {
     "name": "stdout",
     "output_type": "stream",
     "text": [
      "Score: 0.22439074762494837\n"
     ]
    }
   ],
   "source": [
    "inc.partial_fit(X_train_3, y_train_3, classes=classes)\n",
    "print('Score:', inc.score(X_test, y_test))"
   ]
  },
  {
   "cell_type": "code",
   "execution_count": 104,
   "metadata": {},
   "outputs": [
    {
     "name": "stdout",
     "output_type": "stream",
     "text": [
      "Score: 0.16935150764147047\n"
     ]
    }
   ],
   "source": [
    "inc.partial_fit(X_train_4, y_train_4, classes=classes)\n",
    "print('Score:', inc.score(X_test, y_test))"
   ]
  },
  {
   "cell_type": "code",
   "execution_count": 105,
   "metadata": {},
   "outputs": [
    {
     "name": "stdout",
     "output_type": "stream",
     "text": [
      "Score: 0.4047914085088806\n"
     ]
    }
   ],
   "source": [
    "inc.partial_fit(X_train_5, y_train_5, classes=classes)\n",
    "print('Score:', inc.score(X_test, y_test))"
   ]
  },
  {
   "cell_type": "code",
   "execution_count": 106,
   "metadata": {},
   "outputs": [
    {
     "name": "stdout",
     "output_type": "stream",
     "text": [
      "Score: 0.12980173482032217\n"
     ]
    }
   ],
   "source": [
    "inc.partial_fit(X_train_6, y_train_6, classes=classes)\n",
    "print('Score:', inc.score(X_test, y_test))"
   ]
  },
  {
   "cell_type": "code",
   "execution_count": 107,
   "metadata": {},
   "outputs": [],
   "source": [
    "predict_train = inc.predict(X_train_6)\n",
    "predict_test = inc.predict(X_test)"
   ]
  },
  {
   "cell_type": "code",
   "execution_count": 108,
   "metadata": {},
   "outputs": [
    {
     "name": "stdout",
     "output_type": "stream",
     "text": [
      "[[ 431    9  339   10    2    0    2]\n",
      " [  58    2  265   11    1    0    1]\n",
      " [  61    1  596   29    8    1    0]\n",
      " [  77    2 1304   69   59   10    8]\n",
      " [  95    1 2365   54  117   72   80]\n",
      " [ 113    0 2144   15   69  151  272]\n",
      " [  45    0  304    1    1   25  116]]\n",
      "              precision    recall  f1-score   support\n",
      "\n",
      "           0       0.49      0.54      0.52       793\n",
      "           1       0.13      0.01      0.01       338\n",
      "           2       0.08      0.86      0.15       696\n",
      "           3       0.37      0.05      0.08      1529\n",
      "           4       0.46      0.04      0.08      2784\n",
      "           5       0.58      0.05      0.10      2764\n",
      "           6       0.24      0.24      0.24       492\n",
      "\n",
      "    accuracy                           0.16      9396\n",
      "   macro avg       0.34      0.25      0.17      9396\n",
      "weighted avg       0.43      0.16      0.13      9396\n",
      "\n"
     ]
    }
   ],
   "source": [
    "from sklearn.metrics import classification_report,confusion_matrix\n",
    "print(confusion_matrix(y_train_6,predict_train))\n",
    "print(classification_report(y_train_6,predict_train))"
   ]
  },
  {
   "cell_type": "code",
   "execution_count": 109,
   "metadata": {},
   "outputs": [],
   "source": [
    "X_train = data_train[input]\n",
    "y_train = data_train[output]"
   ]
  },
  {
   "cell_type": "code",
   "execution_count": 110,
   "metadata": {},
   "outputs": [
    {
     "name": "stdout",
     "output_type": "stream",
     "text": [
      "Score: 0.44785212722015694\n",
      "Score: 0.33767038413878564\n",
      "Score: 0.1873192895497728\n",
      "Score: 0.3135068153655514\n",
      "Score: 0.4774886410574143\n",
      "Score: 0.21850475010326312\n",
      "Score: 0.34675753820735233\n",
      "Score: 0.4354605534902933\n",
      "Score: 0.40850888062783974\n",
      "Score: 0.3537794299876084\n"
     ]
    }
   ],
   "source": [
    "for _ in range(10):\n",
    "    inc.partial_fit(X_train, y_train, classes=classes)\n",
    "    print('Score:', inc.score(X_test, y_test))"
   ]
  },
  {
   "attachments": {},
   "cell_type": "markdown",
   "metadata": {},
   "source": [
    "## MLP"
   ]
  },
  {
   "cell_type": "code",
   "execution_count": 111,
   "metadata": {},
   "outputs": [],
   "source": [
    "from sklearn.neural_network import MLPClassifier\n",
    "from sklearn.neural_network import MLPRegressor\n",
    "from sklearn.model_selection import train_test_split\n",
    "from sklearn.metrics import mean_squared_error\n",
    "from math import sqrt\n",
    "from sklearn.metrics import r2_score"
   ]
  },
  {
   "cell_type": "code",
   "execution_count": 112,
   "metadata": {},
   "outputs": [],
   "source": [
    "mlp = MLPClassifier(hidden_layer_sizes=(32,32), activation='relu', solver='adam', max_iter=500)\n"
   ]
  },
  {
   "cell_type": "code",
   "execution_count": 113,
   "metadata": {},
   "outputs": [
    {
     "name": "stdout",
     "output_type": "stream",
     "text": [
      "HK2 : 0.1289364230540701\n",
      "HK3 : 0.30797321972002434\n",
      "HK4 : 0.26744904261890057\n",
      "HK5 : 0.28824273072060685\n",
      "HK6 : 0.3378119001919386\n",
      "HK7 : 0.33890374331550804\n"
     ]
    }
   ],
   "source": [
    "mlp.fit(X_train_1,y_train_1)\n",
    "for i in range(2, 8):\n",
    "    X_test = data_test[input][data_test[\"hocky_sx\"]==i]\n",
    "    y_test = data_test[output][data_test[\"hocky_sx\"]==i]\n",
    "    print(\"HK\"+str(i), \":\", mlp.score(X_test, y_test))"
   ]
  },
  {
   "cell_type": "code",
   "execution_count": 114,
   "metadata": {},
   "outputs": [
    {
     "name": "stdout",
     "output_type": "stream",
     "text": [
      "HK2 : 0.19786096256684493\n",
      "HK3 : 0.411442483262325\n",
      "HK4 : 0.31871525633106856\n",
      "HK5 : 0.3116308470290771\n",
      "HK6 : 0.362763915547025\n",
      "HK7 : 0.3549465240641711\n"
     ]
    }
   ],
   "source": [
    "mlp.partial_fit(X_train_2, y_train_2)\n",
    "for i in range(2, 8):\n",
    "    X_test = data_test[input][data_test[\"hocky_sx\"]==i]\n",
    "    y_test = data_test[output][data_test[\"hocky_sx\"]==i]\n",
    "    print(\"HK\"+str(i), \":\", mlp.score(X_test, y_test))"
   ]
  },
  {
   "cell_type": "code",
   "execution_count": 115,
   "metadata": {},
   "outputs": [
    {
     "name": "stdout",
     "output_type": "stream",
     "text": [
      "HK2 : 0.1592394533571004\n",
      "HK3 : 0.443700547778454\n",
      "HK4 : 0.3057442865966646\n",
      "HK5 : 0.3192161820480405\n",
      "HK6 : 0.39923224568138194\n",
      "HK7 : 0.41109625668449196\n"
     ]
    }
   ],
   "source": [
    "mlp.partial_fit(X_train_3, y_train_3)\n",
    "for i in range(2, 8):\n",
    "    X_test = data_test[input][data_test[\"hocky_sx\"]==i]\n",
    "    y_test = data_test[output][data_test[\"hocky_sx\"]==i]\n",
    "    print(\"HK\"+str(i), \":\", mlp.score(X_test, y_test))"
   ]
  },
  {
   "cell_type": "code",
   "execution_count": 116,
   "metadata": {},
   "outputs": [
    {
     "name": "stdout",
     "output_type": "stream",
     "text": [
      "HK2 : 0.18835412953060013\n",
      "HK3 : 0.46865489957395007\n",
      "HK4 : 0.3292155651636813\n",
      "HK5 : 0.2724399494310999\n",
      "HK6 : 0.3237364043506078\n",
      "HK7 : 0.31885026737967914\n"
     ]
    }
   ],
   "source": [
    "mlp.partial_fit(X_train_4, y_train_4)\n",
    "for i in range(2, 8):\n",
    "    X_test = data_test[input][data_test[\"hocky_sx\"]==i]\n",
    "    y_test = data_test[output][data_test[\"hocky_sx\"]==i]\n",
    "    print(\"HK\"+str(i), \":\", mlp.score(X_test, y_test))"
   ]
  },
  {
   "cell_type": "code",
   "execution_count": 117,
   "metadata": {},
   "outputs": [
    {
     "name": "stdout",
     "output_type": "stream",
     "text": [
      "HK2 : 0.3939393939393939\n",
      "HK3 : 0.47717589774802194\n",
      "HK4 : 0.3323038912909203\n",
      "HK5 : 0.33438685208596713\n",
      "HK6 : 0.41394753678822777\n",
      "HK7 : 0.4391711229946524\n"
     ]
    }
   ],
   "source": [
    "mlp.partial_fit(X_train_5, y_train_5)\n",
    "for i in range(2, 8):\n",
    "    X_test = data_test[input][data_test[\"hocky_sx\"]==i]\n",
    "    y_test = data_test[output][data_test[\"hocky_sx\"]==i]\n",
    "    print(\"HK\"+str(i), \":\", mlp.score(X_test, y_test))"
   ]
  },
  {
   "cell_type": "code",
   "execution_count": 118,
   "metadata": {},
   "outputs": [
    {
     "name": "stdout",
     "output_type": "stream",
     "text": [
      "HK2 : 0.44266191325014853\n",
      "HK3 : 0.5027388922702374\n",
      "HK4 : 0.5071031500926498\n",
      "HK5 : 0.572692793931732\n",
      "HK6 : 0.5150351887396033\n",
      "HK7 : 0.44385026737967914\n"
     ]
    }
   ],
   "source": [
    "mlp.partial_fit(X_train_6, y_train_6)\n",
    "for i in range(2, 8):\n",
    "    X_test = data_test[input][data_test[\"hocky_sx\"]==i]\n",
    "    y_test = data_test[output][data_test[\"hocky_sx\"]==i]\n",
    "    print(\"HK\"+str(i), \":\", mlp.score(X_test, y_test))"
   ]
  },
  {
   "cell_type": "code",
   "execution_count": 119,
   "metadata": {},
   "outputs": [
    {
     "name": "stdout",
     "output_type": "stream",
     "text": [
      "HK2 : 0.3790849673202614\n",
      "HK3 : 0.5076080340839927\n",
      "HK4 : 0.4595429277331686\n",
      "HK5 : 0.4469026548672566\n",
      "HK6 : 0.4779270633397313\n",
      "HK7 : 0.464572192513369\n",
      "============================================================\n",
      "HK2 : 0.39334521687462864\n",
      "HK3 : 0.505173463177115\n",
      "HK4 : 0.4688079061148857\n",
      "HK5 : 0.4393173198482933\n",
      "HK6 : 0.45873320537428025\n",
      "HK7 : 0.4699197860962567\n",
      "============================================================\n",
      "HK2 : 0.39037433155080214\n",
      "HK3 : 0.49482653682288497\n",
      "HK4 : 0.46757257566399013\n",
      "HK5 : 0.4525916561314791\n",
      "HK6 : 0.46833013435700577\n",
      "HK7 : 0.4659090909090909\n",
      "============================================================\n",
      "HK2 : 0.42424242424242425\n",
      "HK3 : 0.47839318320146074\n",
      "HK4 : 0.5151327980234712\n",
      "HK5 : 0.5625790139064475\n",
      "HK6 : 0.4888035828534869\n",
      "HK7 : 0.4318181818181818\n",
      "============================================================\n",
      "HK2 : 0.37373737373737376\n",
      "HK3 : 0.5100426049908704\n",
      "HK4 : 0.5003088326127239\n",
      "HK5 : 0.538558786346397\n",
      "HK6 : 0.4964811260396673\n",
      "HK7 : 0.4338235294117647\n",
      "============================================================\n",
      "HK2 : 0.4177064765300059\n",
      "HK3 : 0.519780888618381\n",
      "HK4 : 0.4737492279184682\n",
      "HK5 : 0.4879898862199747\n",
      "HK6 : 0.490722968650032\n",
      "HK7 : 0.4679144385026738\n",
      "============================================================\n",
      "HK2 : 0.37967914438502676\n",
      "HK3 : 0.5106512477175897\n",
      "HK4 : 0.5114268066707844\n",
      "HK5 : 0.527180783817952\n",
      "HK6 : 0.4926423544465771\n",
      "HK7 : 0.46524064171123\n",
      "============================================================\n",
      "HK2 : 0.4177064765300059\n",
      "HK3 : 0.5045648204503956\n",
      "HK4 : 0.5003088326127239\n",
      "HK5 : 0.5316055625790139\n",
      "HK6 : 0.4971209213051823\n",
      "HK7 : 0.446524064171123\n",
      "============================================================\n",
      "HK2 : 0.41532976827094475\n",
      "HK3 : 0.4923919659160073\n",
      "HK4 : 0.509573810994441\n",
      "HK5 : 0.48988621997471554\n",
      "HK6 : 0.4894433781190019\n",
      "HK7 : 0.4699197860962567\n",
      "============================================================\n",
      "HK2 : 0.40641711229946526\n",
      "HK3 : 0.5161290322580645\n",
      "HK4 : 0.48672019765287217\n",
      "HK5 : 0.47850821744627053\n",
      "HK6 : 0.491362763915547\n",
      "HK7 : 0.4766042780748663\n",
      "============================================================\n"
     ]
    }
   ],
   "source": [
    "for _ in range(10):\n",
    "    mlp.partial_fit(X_train, y_train)\n",
    "    for i in range(2, 8):\n",
    "        X_test = data_test[input][data_test[\"hocky_sx\"]==i]\n",
    "        y_test = data_test[output][data_test[\"hocky_sx\"]==i]\n",
    "        print(\"HK\"+str(i), \":\", mlp.score(X_test, y_test))\n",
    "    print(\"============================================================\")"
   ]
  },
  {
   "cell_type": "code",
   "execution_count": null,
   "metadata": {},
   "outputs": [],
   "source": []
  }
 ],
 "metadata": {
  "kernelspec": {
   "display_name": "CS338",
   "language": "python",
   "name": "python3"
  },
  "language_info": {
   "codemirror_mode": {
    "name": "ipython",
    "version": 3
   },
   "file_extension": ".py",
   "mimetype": "text/x-python",
   "name": "python",
   "nbconvert_exporter": "python",
   "pygments_lexer": "ipython3",
   "version": "3.9.16"
  },
  "orig_nbformat": 4
 },
 "nbformat": 4,
 "nbformat_minor": 2
}
